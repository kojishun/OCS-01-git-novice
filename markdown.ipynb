{
 "cells": [
  {
   "cell_type": "markdown",
   "metadata": {
    "slideshow": {
     "slide_type": "slide"
    }
   },
   "source": [
    "## Markdown (マークダウン)形式\n",
    "Python プログラミングの前に、jupyter-notebook でサポートされているマークアップ言語、Markdown について説明する。\n",
    "\n",
    "### なぜこのタイミングで Markdown 形式なのか？\n",
    "\n",
    "**例えば本日の課題レポートのように、一部の提出物は Markdown 形式を求めるので**\n"
   ]
  },
  {
   "cell_type": "markdown",
   "metadata": {
    "slideshow": {
     "slide_type": "slide"
    }
   },
   "source": [
    "## マークアップ言語(Markup Language) (復習)\n",
    "\n",
    "> **マークアップ言語** *スーパー大辞林*\n",
    ">\n",
    "> 文書の中にマークをつけて，文書の構造や修飾情報などを記述するための言語。\n",
    "> SGML，HTML，XML など。\n",
    "\n",
    "SGML 型では\"マーク\"として `<>` が用いられており、人間の可読性は犠牲にされている。\n",
    "利用者は難読なマークアップ形式そのものの「入力」ではなく、ブラウザを介して整形された「出力」を目にすることとなる。\n",
    "\n",
    "*厳密に言えばこの説明は、「意味マークアップ」に分類される*"
   ]
  },
  {
   "cell_type": "markdown",
   "metadata": {
    "slideshow": {
     "slide_type": "slide"
    }
   },
   "source": [
    "###### マークアップ言語(Markup Language) (復習)(続き)\n",
    "### HTML の例\n",
    "以下の HTML で\n",
    "1. 見出し `<H1> An Example .... </H1>` の複数行のうち、`<H1>`および\n",
    "`</H1>` がタグであり、このタグで囲まれた部分が要素となる。\n",
    "2. 次いで、パラグラフ`<P>`に文章が記述されている。  \n",
    "3. その後、番号なしリスト`<UL>`、そのリスト要素はそれぞれ`<LI>`タグで示されている。\n",
    "    1. リスト要素の最後の単語は\n",
    "        `<A>`(アンカー)タグの`href`属性によって、参照先の設定されたハイパーリンクとなっている。  \n",
    "\n",
    "```HTML\n",
    "<H1>\n",
    "    An Example of Structure\n",
    "    <br>\n",
    "    In HTML\n",
    "</H1>\n",
    "<P>\n",
    "    Here's a typical paragraph.\n",
    "    <UL>\n",
    "        <LI>\n",
    "            Item one has an\n",
    "            <A href=\"http://www.example.com\">\n",
    "               anchor\n",
    "            </A>\n",
    "        <LI>\n",
    "            Here's item two.\n",
    "    </UL>\n",
    "</P>\n",
    "```\n",
    "\n",
    "この HTML の例はブラウザでは以下のように表示される:\n",
    "\n",
    "---\n",
    "<H1>\n",
    "    An Example of Structure\n",
    "    <br>\n",
    "    In HTML\n",
    "</H1>\n",
    "<P>\n",
    "    Here's a typical paragraph.\n",
    "    <UL>\n",
    "        <LI>\n",
    "            Item one has an\n",
    "            <A href=\"http://www.example.com\">\n",
    "               anchor\n",
    "            </A>\n",
    "        <LI>\n",
    "            Here's item two.\n",
    "    </UL>\n",
    "</P>"
   ]
  },
  {
   "cell_type": "markdown",
   "metadata": {
    "slideshow": {
     "slide_type": "slide"
    }
   },
   "source": [
    "## Markdown とは\n",
    "\n",
    "> *Markdown* - *Wikipedia*\n",
    ">\n",
    "> Markdown（マークダウン）は、文書を記述するための軽量マークアップ言語のひとつである。\n",
    "> 本来はプレーンテキスト形式で手軽に書いた文書からHTMLを生成するために開発されたものである。\n",
    "> しかし、現在ではHTMLのほかパワーポイント形式やLATEX形式のファイルへ変換するソフトウェア（コンバータ）も開発されている。\n",
    "> 各コンバータの開発者によって多様な拡張が施されるため、各種の方言が存在する。\n",
    ">\n",
    "\n",
    "\n",
    "HTML はマークアップ言語として広く普及しているが、書きやすさの問題から人間が直接 HTML を書き下すことは困難である。  \n",
    "実際 Web デザイナは HTML, CSS を書き下すのではなく オーサリングソフトを利用し画面を作っている。\n",
    "\n",
    "一方で、Wiki に代表される Blog サービスでは一般人が Web オーサリングツール上でリッチな Web 画面を作成するという要求は強い。  \n",
    "以上の理由から、「入力」と「出力」両方の可読性ならびに*整形性*を最大化するマークアップ言語として Markdown が作られた。\n",
    "\n",
    "Markdown 形式は Wiki をはじめとして広く採用されている。  \n",
    "講義で利用する jupyter-notebook でもセルを切り替え Markdown 形式で記述、整形することができる。  \n",
    "ただし、個別のシステムで独自の拡張が(現在でも)続いており、互換性には課題が残る。\n"
   ]
  },
  {
   "cell_type": "markdown",
   "metadata": {
    "slideshow": {
     "slide_type": "slide"
    }
   },
   "source": [
    "## jupyrter-notebook セルを Markdown で記述する \n",
    "\n",
    "1. Markdown に切り替えたいセルを選ぶ\n",
    "1. command mode で `m` を入力、  \n",
    "    あるいはプルダウンメニューで Code-> Markdown に切り替える\n",
    "2. Markdown で記述\n",
    "3. Ctl + Enter でセルを実行"
   ]
  },
  {
   "cell_type": "code",
   "execution_count": null,
   "metadata": {
    "slideshow": {
     "slide_type": "-"
    }
   },
   "outputs": [],
   "source": [
    "<!--\n",
    "Switch cell-mode from \"Code\" to \"Markdown\"\n",
    "Then \"Run\" with CTL-Enter\n",
    "-->\n",
    "My first **markdown**"
   ]
  },
  {
   "cell_type": "markdown",
   "metadata": {
    "slideshow": {
     "slide_type": "slide"
    }
   },
   "source": [
    "##  jupyrter-notebook がサポートする Markdown 形式\n",
    "\n",
    "ここでは代表的なものを紹介する。詳細は、[jupyter-notebookのサイト](http://jupyter-notebook.readthedocs.io/en/stable/examples/Notebook/Working%20With%20Markdown%20Cells.html)\n",
    "や [Markdown のサイト](https://daringfireball.net/projects/markdown/)を参考にするのも良い。\n",
    "\n",
    "### 文字飾り\n",
    "太文字、斜体、取り消し線などの文字飾りを利用できます。\n",
    "\n",
    "```\n",
    "アスタリスクあるいはアンダーバー:  \n",
    "１つで*イタリック*, _イタリック_ \n",
    "２つで**太文字**, __太文字__  \n",
    "３つで***イタリック太文字***, ___イタリック太文字___\n",
    "\n",
    "\n",
    "```\n",
    "アスタリスクあるいはアンダーバー:  \n",
    "１つで*イタリック*, _イタリック_ \n",
    "２つで**太文字**, __太文字__  \n",
    "３つで***イタリック太文字***, ___イタリック太文字___"
   ]
  },
  {
   "cell_type": "markdown",
   "metadata": {
    "slideshow": {
     "slide_type": "slide"
    }
   },
   "source": [
    "######  jupyrter-notebook がサポートする Markdown 形式（続き）\n",
    "\n",
    "### 段落\n",
    "段落の区切りは空行で分けられる。\n",
    "\n",
    "```\n",
    "最初の段落です。\n",
    "\n",
    "次の段落です、直前の行は改行以外の文字が入ってはいけません。\n",
    "```"
   ]
  },
  {
   "cell_type": "markdown",
   "metadata": {
    "slideshow": {
     "slide_type": "slide"
    }
   },
   "source": [
    "######  jupyrter-notebook がサポートする Markdown 形式（続き）\n",
    "### 改行\n",
    "連続した行は、同じ行（改行なし）とみなされる。\n",
    "改行したい場合は、行末に空白 2 つを入れる。  \n",
    "空白だけだと可読性が落ちるので HTML の改行マーク `<br>` に代えても良い。\n",
    "\n",
    "```\n",
    "改行したくない場合。\n",
    "２行目\n",
    "\n",
    "改行したい場合。  \n",
    "２行目\n",
    "\n",
    "改行したい場合`<br>`の例。<br>\n",
    "２行目\n",
    "```\n",
    "\n",
    "改行したくない場合。\n",
    "２行目\n",
    "\n",
    "改行したい場合。  \n",
    "２行目\n",
    "\n",
    "改行したい場合`<br>`の例。<br>\n",
    "２行目"
   ]
  },
  {
   "cell_type": "markdown",
   "metadata": {
    "slideshow": {
     "slide_type": "slide"
    }
   },
   "source": [
    "######  jupyrter-notebook がサポートする Markdown 形式（続き）\n",
    "\n",
    "### 番号なしリスト（箇条書き）\n",
    "```\n",
    "- 行頭にハイフンでリストが始まります\n",
    "    - 字下げでレベルを変えることができます\n",
    "        - さらに字下げしてみました\n",
    "    * ハイフン以外に、*+ も使えます\n",
    "    + ほらこのとうり\n",
    "```\n",
    "\n",
    "- 行頭にハイフンでリストが始まります\n",
    "    - 字下げでレベルを変えることができます\n",
    "        - さらに字下げしてみました\n",
    "    * ハイフン以外に、*+ も使えます\n",
    "    + ほらこのとうり"
   ]
  },
  {
   "cell_type": "markdown",
   "metadata": {
    "slideshow": {
     "slide_type": "slide"
    }
   },
   "source": [
    "######  jupyrter-notebook がサポートする Markdown 形式（続き）\n",
    "### 番号つきリスト\n",
    "```\n",
    "1. 行頭に数字とピリオドで番号付きリストが始まります。\n",
    "    1. レベルもサポートしています。\n",
    "    2. 数字ではないかもしれません。\n",
    "2. 字下げを戻せばリストレベルも戻ります。\n",
    "1. かならずしも連続した番号でなくてもかまいません。\n",
    "1. 全部同じ番号でも、直してくれます。\n",
    "```\n",
    "\n",
    "1. 行頭に数字とピリオドで番号付きリストが始まります。\n",
    "    1. レベルもサポートしています。\n",
    "    2. 数字ではないかもしれません。\n",
    "2. 字下げを戻せばリストレベルも戻ります。\n",
    "1. かならずしも連続した番号でなくてもかまいません。\n",
    "1. 全部同じ番号でも、直してくれます。"
   ]
  },
  {
   "cell_type": "markdown",
   "metadata": {
    "slideshow": {
     "slide_type": "slide"
    }
   },
   "source": [
    "######  jupyrter-notebook がサポートする Markdown 形式（続き）\n",
    "\n",
    "### 引用\n",
    "\n",
    "```\n",
    "> 電子メールの返信のように引用も可能です。\n",
    ">> 複数レベルにも対応しています。\n",
    "\n",
    "> レベルはちゃんと戻ります。\n",
    "```\n",
    "\n",
    "> 電子メールの返信のように引用も可能です。\n",
    ">> 複数レベルにも対応しています。\n",
    "\n",
    "> レベルはちゃんと戻ります。\n"
   ]
  },
  {
   "cell_type": "markdown",
   "metadata": {
    "slideshow": {
     "slide_type": "slide"
    }
   },
   "source": [
    "######  jupyrter-notebook がサポートする Markdown 形式（続き）\n",
    "\n",
    "### 見出し\n",
    "見出しは `#` を使います。\n",
    "\n",
    "```\n",
    "# 見出し1\n",
    "\n",
    "# 見出し2\n",
    "\n",
    "## 見出し2.1\n",
    "\n",
    "## 見出し2.2\n",
    "```\n",
    "\n",
    "# 見出し1\n",
    "\n",
    "# 見出し2\n",
    "\n",
    "## 見出し2.1\n",
    "\n",
    "## 見出し2.2\n"
   ]
  },
  {
   "cell_type": "markdown",
   "metadata": {},
   "source": [
    "######  jupyrter-notebook がサポートする Markdown 形式(続き)\n",
    "### プログラムコード\n",
    "コードは３つのバッククオート（逆引用符）\\` \\` \\`で囲みます\n",
    "\n",
    "\\` \\` \\`\n",
    "    print(10)  \n",
    "\\` \\` \\`\n",
    "\n",
    "```\n",
    "   print(10)\n",
    "```\n",
    "\n",
    "プログラム言語によっては、文字属性（色）が設定できるものもあります。\n",
    "\n",
    "\\` \\` \\`python\n",
    "    print(10)  \n",
    "\\` \\` \\`\n",
    "\n",
    "```python\n",
    "    print(10)  \n",
    "```"
   ]
  },
  {
   "cell_type": "markdown",
   "metadata": {
    "slideshow": {
     "slide_type": "slide"
    }
   },
   "source": [
    "###### jupyrter-notebook がサポートする Markdown 形式(続き)\n",
    "\n",
    "### 表\n",
    "表をこのように書くことができます。\n",
    "```\n",
    "| This | is   |\n",
    "|------|------|\n",
    "|   a  | table| \n",
    "```\n",
    "\n",
    "| This | is   |\n",
    "|------|------|\n",
    "|   a  | table| \n",
    "\n",
    "### ハイパーリンク\n",
    "外部参照は以下のように書きます。\n",
    "\n",
    "```\n",
    "[サンプル](http://www.example.com)\n",
    "```\n",
    "\n",
    "[サンプル](http://www.example.com)"
   ]
  },
  {
   "cell_type": "markdown",
   "metadata": {},
   "source": [
    "######  jupyrter-notebook がサポートする Markdown 形式(続き)\n",
    "### LaTeX 数式\n",
    "行中に LaTeX 形式の数式を入れるときはドル記号\\$ で囲みます。  \n",
    "例えば、`$e^{i \\pi}\\$`はこのように $e^{i \\pi}$　なります。  \n",
    "改行が必要な場合は、\\$\\$ と繰り返します。\n",
    "\n",
    "```\n",
    "$$\n",
    "y = \\int_{-\\infty}^{\\infty} f(x)\\ dx\n",
    "$$\n",
    "```\n",
    "\n",
    "$$\n",
    "y = \\int_{-\\infty}^{\\infty} f(x)\\ dx\n",
    "$$"
   ]
  },
  {
   "cell_type": "markdown",
   "metadata": {
    "slideshow": {
     "slide_type": "slide"
    }
   },
   "source": [
    "## Markdown 形式まとめ\n",
    "\n",
    "- Markup 言語の一つ\n",
    "- HTML は広く普及しているが、ソースの可読性・書きやすさに難\n",
    "- Blog などで簡単に使える Markup として創られた\n",
    "- 実装に依存する部分が多い\n",
    "\n",
    "- **本日の課題レポートの一つは Markdown 形式で提出する**\n"
   ]
  },
  {
   "cell_type": "markdown",
   "metadata": {
    "slideshow": {
     "slide_type": "slide"
    }
   },
   "source": [
    "### 課題(Markdown)\n",
    "\n",
    "**演習(Git)**で作成したレポジトリを利用する。\n",
    "\n",
    "レポジトリ内の jupyter-notebook 形式のファイル、`myclass.ipynb`を編集、リモートレポジトリにコミットする。\n",
    "後述するルールで学籍番号からの曜日(day)を求め、現在履修している講義の中でその曜日の最初の講義の概要を Markdown を用いて記述せよ。\n",
    "記述にあたっては、**4 種類**以上のマークダウン機能を利用すること。\n",
    "\n",
    "自身の曜日に受講している講義がなければ翌日、翌々日...の講義を選ぶこと。  \n",
    "記述にあたっては UTAS のシラバスを参照してよいが、参照部分は Markdown の機能で明示すること。  \n",
    "記述量は PDF に変換した場合 A4 1 ページを目安とする。(環境によって失敗するのでPDF の変換を試す必要はない。)\n",
    "\n",
    "曜日のルール:\n",
    "\n",
    "|学生証番号末尾 |曜日|\n",
    "|-------------|---|\n",
    "|0 or 5    |月|\n",
    "|1 or  6    |火|\n",
    "|2 or 7    |水|\n",
    "|3 or 8    |木|\n",
    "|4 or 9    |金|\n",
    "\n",
    "その他：提出課題の末尾にこの講義（計算機システム概論）に期待する内容を追加しても良い。"
   ]
  }
 ],
 "metadata": {
  "celltoolbar": "Slideshow",
  "kernelspec": {
   "display_name": "Python 3",
   "language": "python",
   "name": "python3"
  },
  "language_info": {
   "codemirror_mode": {
    "name": "ipython",
    "version": 3
   },
   "file_extension": ".py",
   "mimetype": "text/x-python",
   "name": "python",
   "nbconvert_exporter": "python",
   "pygments_lexer": "ipython3",
   "version": "3.6.3"
  }
 },
 "nbformat": 4,
 "nbformat_minor": 2
}
